{
 "cells": [
  {
   "cell_type": "code",
   "execution_count": 1,
   "metadata": {},
   "outputs": [],
   "source": [
    "from backend.game import *\n",
    "from frontend.board_visualiser import *\n",
    "from frontend.input import *"
   ]
  },
  {
   "cell_type": "code",
   "execution_count": 2,
   "metadata": {},
   "outputs": [],
   "source": [
    "game = Game()\n",
    "player0 = Player(0,0)\n",
    "player1 = Player(1,0)"
   ]
  },
  {
   "cell_type": "code",
   "execution_count": 4,
   "metadata": {},
   "outputs": [
    {
     "name": "stdout",
     "output_type": "stream",
     "text": [
      "It is your turn to attack.\n",
      "Controls: view board (b), select card (s), end turn (e).\n",
      "Index | 0  | 1  | 2  | 3  | 4  | 5 \n",
      "-----------------------------------\n",
      "Card  | A♠ | Q♠ | 9♠ | K♣ | 8♣ | A♥\n",
      "Controls: view board (b), select card (s), end turn (e).\n",
      "Index | 0  | 1  | 2  | 3  | 4 \n",
      "------------------------------\n",
      "Card  | Q♠ | 9♠ | K♣ | 8♣ | A♥\n",
      "Controls: view board (b), select card (s), end turn (e).\n",
      "Number of unplayed (in deck) cards: 20\n",
      "The trump card is: ['8♠']\n",
      "Attacker: Player 1\n",
      "Turn: Player 1\n",
      "\n",
      "Cards on board (no longer needed to defend): \n",
      "\n",
      "Cards left to defend: A♠ A♥\n",
      "\n",
      "Player 0 cards: J♠ Q♣ T♣ 7♣ T♦ 8♥\n",
      "\n",
      "Player 1 cards: Q♠ 9♠ K♣ 8♣\n",
      "Controls: view board (b), select card (s), end turn (e).\n"
     ]
    },
    {
     "data": {
      "text/plain": [
       "(True, False)"
      ]
     },
     "execution_count": 4,
     "metadata": {},
     "output_type": "execute_result"
    }
   ],
   "source": [
    "m = player1.get_attack(game.state)\n",
    "game.attack(m.move_matrix,player1.get_player_id())\n"
   ]
  },
  {
   "cell_type": "code",
   "execution_count": 5,
   "metadata": {},
   "outputs": [
    {
     "name": "stdout",
     "output_type": "stream",
     "text": [
      "Number of unplayed (in deck) cards: 20\n",
      "The trump card is: ['8♠']\n",
      "Attacker: Player 1\n",
      "Turn: Player 1\n",
      "\n",
      "Cards on board (no longer needed to defend): \n",
      "\n",
      "Cards left to defend: A♠ A♥\n",
      "\n",
      "Player 0 cards: J♠ Q♣ T♣ 7♣ T♦ 8♥\n",
      "\n",
      "Player 1 cards: Q♠ 9♠ K♣ 8♣\n"
     ]
    }
   ],
   "source": [
    "#print(m.get_move_matrix())\n",
    "\n",
    "board_visualiser = BoardVisualiser(game.state,0)\n",
    "print(board_visualiser)"
   ]
  }
 ],
 "metadata": {
  "kernelspec": {
   "display_name": "Python 3",
   "language": "python",
   "name": "python3"
  },
  "language_info": {
   "codemirror_mode": {
    "name": "ipython",
    "version": 3
   },
   "file_extension": ".py",
   "mimetype": "text/x-python",
   "name": "python",
   "nbconvert_exporter": "python",
   "pygments_lexer": "ipython3",
   "version": "3.12.0"
  }
 },
 "nbformat": 4,
 "nbformat_minor": 2
}
