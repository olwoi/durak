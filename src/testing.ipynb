{
 "cells": [
  {
   "cell_type": "code",
   "execution_count": 1,
   "metadata": {},
   "outputs": [],
   "source": [
    "from backend.game import *\n",
    "from frontend.board_visualiser import *\n",
    "from frontend.input import *"
   ]
  },
  {
   "cell_type": "code",
   "execution_count": 2,
   "metadata": {},
   "outputs": [],
   "source": [
    "game = Game()\n",
    "player0 = Player(0,0)\n",
    "player1 = Player(1,0)"
   ]
  },
  {
   "cell_type": "code",
   "execution_count": 3,
   "metadata": {},
   "outputs": [
    {
     "name": "stdout",
     "output_type": "stream",
     "text": [
      "It is your turn to attack.\n",
      "Controls: view board (b), select card (s), end turn (e).\n",
      "Number of unplayed (in deck) cards: 20\n",
      "The trump card is: ['8♠']\n",
      "Attacker: Player 1\n",
      "Turn: Player 1\n",
      "\n",
      "Cards on board (no longer needed to defend): \n",
      "\n",
      "Cards left to defend: \n",
      "\n",
      "Player 0 cards: J♠ Q♣ T♣ 7♣ T♦ 8♥\n",
      "\n",
      "Player 1 cards: A♠ Q♠ 9♠ K♣ 8♣ A♥\n",
      "Controls: view board (b), select card (s), end turn (e).\n",
      "Index | 0  | 1  | 2  | 3  | 4  | 5 \n",
      "-----------------------------------\n",
      "Card  | A♠ | Q♠ | 9♠ | K♣ | 8♣ | A♥\n",
      "[[-1  0  0  1  0  0  0  0  0  0  1  0  1  0  0  1  0  0  0  0  1  0  0  0\n",
      "   0  0  0  0  0  0  1  0]\n",
      " [ 1  0  1  0  0  1  0  0  0  1  0  0  0  0  1  0  0  0  0  0  0  0  0  0\n",
      "   1  0  0  0  0  0  0  0]\n",
      " [ 0  1  0  0  1  0  1  1  1  0  0  1  0  1  0  0  1  1  1  1  0  1  1  1\n",
      "   0  1  1  1  1  1  0  1]\n",
      " [ 1  0  0  0  0  0  0  0  0  0  0  0  0  0  0  0  0  0  0  0  0  0  0  0\n",
      "   0  0  0  0  0  0  0  0]\n",
      " [ 0  0  0  0  0  0  0  0  0  0  0  0  0  0  0  0  0  0  0  0  0  0  0  0\n",
      "   0  0  0  0  0  0  0  0]\n",
      " [ 0  0  0  0  0  0  1  0  0  0  0  0  0  0  0  0  0  0  0  0  0  0  0  0\n",
      "   0  0  0  0  0  0  0  0]]\n"
     ]
    },
    {
     "ename": "ValueError",
     "evalue": "State matrix must contain only 0s and 1s",
     "output_type": "error",
     "traceback": [
      "\u001b[1;31m---------------------------------------------------------------------------\u001b[0m",
      "\u001b[1;31mValueError\u001b[0m                                Traceback (most recent call last)",
      "Cell \u001b[1;32mIn[3], line 1\u001b[0m\n\u001b[1;32m----> 1\u001b[0m m \u001b[38;5;241m=\u001b[39m \u001b[43mplayer1\u001b[49m\u001b[38;5;241;43m.\u001b[39;49m\u001b[43mget_attack\u001b[49m\u001b[43m(\u001b[49m\u001b[43mgame\u001b[49m\u001b[38;5;241;43m.\u001b[39;49m\u001b[43mstate\u001b[49m\u001b[43m)\u001b[49m\n\u001b[0;32m      2\u001b[0m game\u001b[38;5;241m.\u001b[39mattack(m\u001b[38;5;241m.\u001b[39mmove_matrix,player1\u001b[38;5;241m.\u001b[39mget_player_id())\n",
      "File \u001b[1;32mf:\\DURAK\\durak\\src\\frontend\\input.py:140\u001b[0m, in \u001b[0;36mPlayer.get_attack\u001b[1;34m(self, state_matrix)\u001b[0m\n\u001b[0;32m    137\u001b[0m     new_move\u001b[38;5;241m.\u001b[39mset_move_row(StateMatrix\u001b[38;5;241m.\u001b[39mPLAYER_0\u001b[38;5;241m.\u001b[39mvalue, \u001b[38;5;241m-\u001b[39m selected_card)\n\u001b[0;32m    138\u001b[0m     new_move\u001b[38;5;241m.\u001b[39mset_move_row(StateMatrix\u001b[38;5;241m.\u001b[39mLEFT2DEF\u001b[38;5;241m.\u001b[39mvalue, selected_card)\n\u001b[1;32m--> 140\u001b[0m     \u001b[43mcurrent_state\u001b[49m\u001b[38;5;241;43m.\u001b[39;49m\u001b[43mapply_move\u001b[49m\u001b[43m(\u001b[49m\u001b[43mnew_move\u001b[49m\u001b[43m)\u001b[49m\n\u001b[0;32m    142\u001b[0m     current_move \u001b[38;5;241m+\u001b[39m\u001b[38;5;241m=\u001b[39m new_move\n\u001b[0;32m    144\u001b[0m \u001b[38;5;28;01melif\u001b[39;00m command \u001b[38;5;241m==\u001b[39m \u001b[38;5;124m\"\u001b[39m\u001b[38;5;124me\u001b[39m\u001b[38;5;124m\"\u001b[39m:\n",
      "File \u001b[1;32mf:\\DURAK\\durak\\src\\frontend\\state_wrapper.py:56\u001b[0m, in \u001b[0;36mState.apply_move\u001b[1;34m(self, move)\u001b[0m\n\u001b[0;32m     54\u001b[0m \u001b[38;5;28;01mif\u001b[39;00m np\u001b[38;5;241m.\u001b[39many((new_state_matrix \u001b[38;5;241m!=\u001b[39m \u001b[38;5;241m0\u001b[39m) \u001b[38;5;241m*\u001b[39m (new_state_matrix \u001b[38;5;241m!=\u001b[39m \u001b[38;5;241m1\u001b[39m)):\n\u001b[0;32m     55\u001b[0m     \u001b[38;5;28mprint\u001b[39m(new_state_matrix)\n\u001b[1;32m---> 56\u001b[0m     \u001b[38;5;28;01mraise\u001b[39;00m \u001b[38;5;167;01mValueError\u001b[39;00m(\u001b[38;5;124m\"\u001b[39m\u001b[38;5;124mState matrix must contain only 0s and 1s\u001b[39m\u001b[38;5;124m\"\u001b[39m)\n\u001b[0;32m     58\u001b[0m \u001b[38;5;28mself\u001b[39m\u001b[38;5;241m.\u001b[39mstate_matrix \u001b[38;5;241m=\u001b[39m np\u001b[38;5;241m.\u001b[39marray(new_state_matrix, dtype\u001b[38;5;241m=\u001b[39m\u001b[38;5;28mbool\u001b[39m)\n",
      "\u001b[1;31mValueError\u001b[0m: State matrix must contain only 0s and 1s"
     ]
    }
   ],
   "source": [
    "m = player1.get_attack(game.state)\n",
    "game.attack(m.move_matrix,player1.get_player_id())\n"
   ]
  },
  {
   "cell_type": "code",
   "execution_count": 5,
   "metadata": {},
   "outputs": [
    {
     "name": "stdout",
     "output_type": "stream",
     "text": [
      "Number of unplayed (in deck) cards: 20\n",
      "The trump card is: ['8♠']\n",
      "Attacker: Player 1\n",
      "Turn: Player 1\n",
      "\n",
      "Cards on board (no longer needed to defend): \n",
      "\n",
      "Cards left to defend: \n",
      "\n",
      "Player 0 cards: J♠ Q♣ T♣ 7♣ T♦ 8♥\n",
      "\n",
      "Player 1 cards: A♠ Q♠ 9♠ K♣ 8♣ A♥\n"
     ]
    }
   ],
   "source": [
    "board_visualiser = BoardVisualiser(game.state,0)\n",
    "print(board_visualiser)"
   ]
  }
 ],
 "metadata": {
  "kernelspec": {
   "display_name": "Python 3",
   "language": "python",
   "name": "python3"
  },
  "language_info": {
   "codemirror_mode": {
    "name": "ipython",
    "version": 3
   },
   "file_extension": ".py",
   "mimetype": "text/x-python",
   "name": "python",
   "nbconvert_exporter": "python",
   "pygments_lexer": "ipython3",
   "version": "3.12.0"
  }
 },
 "nbformat": 4,
 "nbformat_minor": 2
}
